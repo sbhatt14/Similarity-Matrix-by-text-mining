{
 "cells": [
  {
   "cell_type": "markdown",
   "metadata": {},
   "source": [
    "## I will be using TF - term Frequency to transform the documents into tf-idf vectors, then compute the cosine similarity between them. Descriptions are short, precise and well defined they often contain the important keywords that are self descriptory.\n"
   ]
  },
  {
   "cell_type": "markdown",
   "metadata": {},
   "source": [
    "Let's go ahead and use rstrip() plus a list comprehension to get a list of all the lines of  messages:"
   ]
  },
  {
   "cell_type": "code",
   "execution_count": 1,
   "metadata": {
    "collapsed": false
   },
   "outputs": [
    {
     "name": "stdout",
     "output_type": "stream",
     "text": [
      "5\n"
     ]
    }
   ],
   "source": [
    "messages = [line.rstrip() for line in open('company_descriptions.txt')]\n",
    "print(len(messages))"
   ]
  },
  {
   "cell_type": "markdown",
   "metadata": {},
   "source": [
    "Print Messages"
   ]
  },
  {
   "cell_type": "code",
   "execution_count": 2,
   "metadata": {
    "collapsed": false
   },
   "outputs": [
    {
     "name": "stdout",
     "output_type": "stream",
     "text": [
      "(0, 'AAPL: Apple Inc. is an American multinational technology company headquartered in Cupertino, California, that designs, develops, and sells consumer electronics, computer software, and online services.')\n",
      "\n",
      "\n",
      "(1, \"MSFT: Microsoft Corporation (commonly referred to as Microsoft) is an American multinational technology company headquartered in Redmond, Washington, that develops, manufactures, licenses, supports and sells computer software, consumer electronics and personal computers and services.  Its best known software products are the Microsoft Windows line of operating systems, Microsoft Office office suite, and Internet Explorer and Edge web browsers.  Its flagship hardware products are the Xbox game consoles and the Microsoft Surface tablet lineup.  It is the world's largest software maker by revenue, and one of the world's most valuable companies.\")\n",
      "\n",
      "\n",
      "(2, 'BAC: Bank of America is an American multinational banking and financial services corporation headquartered in Charlotte, North Carolina.  It is the second largest bank holding company in the United States by assets. As of 2013, Bank of America is the twenty-first largest company in the United States by total revenue. In 2010, Forbes listed Bank of America as the third biggest company in the world. Bank of America provides its products and services through\\t\\toperating 5,100 banking centers, 16,300 ATMs, call centers, and online and mobile banking platforms. Its Consumer Real Estate Services segment offers consumer real estate products comprising fixed and adjustable-rate first-lien mortgage loans for home purchase and refinancing needs, home equity lines of credit, and home equity loans.')\n",
      "\n",
      "\n",
      "(3, 'YHOO: Yahoo Inc. is an American multinational technology company headquartered in Sunnyvale, California. It is globally known for its Web portal, search engine Yahoo! Search,\\tand related services, including Yahoo! Directory and Yahoo! Mail.')\n",
      "\n",
      "\n",
      "(4, 'GOOG: Google Inc. is an American multinational technology company specializing in Internet-related services and products. These include online advertising technologies, search, cloud computing, and software. Most of its profits are derived from AdWords, an online advertising service that places advertising near the list of search results.')\n",
      "\n",
      "\n"
     ]
    }
   ],
   "source": [
    "for message_no, message in enumerate(messages[:10]):\n",
    "    print(message_no, message)\n",
    "    print('\\n')"
   ]
  },
  {
   "cell_type": "code",
   "execution_count": 3,
   "metadata": {
    "collapsed": true
   },
   "outputs": [],
   "source": [
    "import pandas as pd"
   ]
  },
  {
   "cell_type": "code",
   "execution_count": 4,
   "metadata": {
    "collapsed": false
   },
   "outputs": [
    {
     "data": {
      "text/html": [
       "<div>\n",
       "<table border=\"1\" class=\"dataframe\">\n",
       "  <thead>\n",
       "    <tr style=\"text-align: right;\">\n",
       "      <th></th>\n",
       "      <th>Company</th>\n",
       "      <th>Desc</th>\n",
       "    </tr>\n",
       "  </thead>\n",
       "  <tbody>\n",
       "    <tr>\n",
       "      <th>0</th>\n",
       "      <td>AAPL</td>\n",
       "      <td>Apple Inc. is an American multinational techn...</td>\n",
       "    </tr>\n",
       "    <tr>\n",
       "      <th>1</th>\n",
       "      <td>MSFT</td>\n",
       "      <td>Microsoft Corporation (commonly referred to a...</td>\n",
       "    </tr>\n",
       "    <tr>\n",
       "      <th>2</th>\n",
       "      <td>BAC</td>\n",
       "      <td>Bank of America is an American multinational ...</td>\n",
       "    </tr>\n",
       "    <tr>\n",
       "      <th>3</th>\n",
       "      <td>YHOO</td>\n",
       "      <td>Yahoo Inc. is an American multinational techn...</td>\n",
       "    </tr>\n",
       "    <tr>\n",
       "      <th>4</th>\n",
       "      <td>GOOG</td>\n",
       "      <td>Google Inc. is an American multinational tech...</td>\n",
       "    </tr>\n",
       "  </tbody>\n",
       "</table>\n",
       "</div>"
      ],
      "text/plain": [
       "  Company                                               Desc\n",
       "0    AAPL   Apple Inc. is an American multinational techn...\n",
       "1    MSFT   Microsoft Corporation (commonly referred to a...\n",
       "2     BAC   Bank of America is an American multinational ...\n",
       "3    YHOO   Yahoo Inc. is an American multinational techn...\n",
       "4    GOOG   Google Inc. is an American multinational tech..."
      ]
     },
     "execution_count": 4,
     "metadata": {},
     "output_type": "execute_result"
    }
   ],
   "source": [
    "messages = pd.read_table('company_descriptions.txt',sep =':'\n",
    "                           ,names=[\"Company\", \"Desc\"])\n",
    "messages.head()"
   ]
  },
  {
   "cell_type": "code",
   "execution_count": 5,
   "metadata": {
    "collapsed": false
   },
   "outputs": [
    {
     "data": {
      "text/html": [
       "<div>\n",
       "<table border=\"1\" class=\"dataframe\">\n",
       "  <thead>\n",
       "    <tr style=\"text-align: right;\">\n",
       "      <th></th>\n",
       "      <th>Company</th>\n",
       "      <th>Desc</th>\n",
       "    </tr>\n",
       "  </thead>\n",
       "  <tbody>\n",
       "    <tr>\n",
       "      <th>count</th>\n",
       "      <td>5</td>\n",
       "      <td>5</td>\n",
       "    </tr>\n",
       "    <tr>\n",
       "      <th>unique</th>\n",
       "      <td>5</td>\n",
       "      <td>5</td>\n",
       "    </tr>\n",
       "    <tr>\n",
       "      <th>top</th>\n",
       "      <td>MSFT</td>\n",
       "      <td>Bank of America is an American multinational ...</td>\n",
       "    </tr>\n",
       "    <tr>\n",
       "      <th>freq</th>\n",
       "      <td>1</td>\n",
       "      <td>1</td>\n",
       "    </tr>\n",
       "  </tbody>\n",
       "</table>\n",
       "</div>"
      ],
      "text/plain": [
       "       Company                                               Desc\n",
       "count        5                                                  5\n",
       "unique       5                                                  5\n",
       "top       MSFT   Bank of America is an American multinational ...\n",
       "freq         1                                                  1"
      ]
     },
     "execution_count": 5,
     "metadata": {},
     "output_type": "execute_result"
    }
   ],
   "source": [
    "messages.describe()"
   ]
  },
  {
   "cell_type": "code",
   "execution_count": 6,
   "metadata": {
    "collapsed": false
   },
   "outputs": [
    {
     "data": {
      "text/html": [
       "<div>\n",
       "<table border=\"1\" class=\"dataframe\">\n",
       "  <thead>\n",
       "    <tr style=\"text-align: right;\">\n",
       "      <th></th>\n",
       "      <th>Company</th>\n",
       "      <th>Desc</th>\n",
       "      <th>length</th>\n",
       "    </tr>\n",
       "  </thead>\n",
       "  <tbody>\n",
       "    <tr>\n",
       "      <th>0</th>\n",
       "      <td>AAPL</td>\n",
       "      <td>Apple Inc. is an American multinational techn...</td>\n",
       "      <td>195</td>\n",
       "    </tr>\n",
       "    <tr>\n",
       "      <th>1</th>\n",
       "      <td>MSFT</td>\n",
       "      <td>Microsoft Corporation (commonly referred to a...</td>\n",
       "      <td>644</td>\n",
       "    </tr>\n",
       "    <tr>\n",
       "      <th>2</th>\n",
       "      <td>BAC</td>\n",
       "      <td>Bank of America is an American multinational ...</td>\n",
       "      <td>792</td>\n",
       "    </tr>\n",
       "    <tr>\n",
       "      <th>3</th>\n",
       "      <td>YHOO</td>\n",
       "      <td>Yahoo Inc. is an American multinational techn...</td>\n",
       "      <td>235</td>\n",
       "    </tr>\n",
       "    <tr>\n",
       "      <th>4</th>\n",
       "      <td>GOOG</td>\n",
       "      <td>Google Inc. is an American multinational tech...</td>\n",
       "      <td>335</td>\n",
       "    </tr>\n",
       "  </tbody>\n",
       "</table>\n",
       "</div>"
      ],
      "text/plain": [
       "  Company                                               Desc  length\n",
       "0    AAPL   Apple Inc. is an American multinational techn...     195\n",
       "1    MSFT   Microsoft Corporation (commonly referred to a...     644\n",
       "2     BAC   Bank of America is an American multinational ...     792\n",
       "3    YHOO   Yahoo Inc. is an American multinational techn...     235\n",
       "4    GOOG   Google Inc. is an American multinational tech...     335"
      ]
     },
     "execution_count": 6,
     "metadata": {},
     "output_type": "execute_result"
    }
   ],
   "source": [
    "messages['length'] = messages['Desc'].apply(len)\n",
    "messages.head()"
   ]
  },
  {
   "cell_type": "code",
   "execution_count": 7,
   "metadata": {
    "collapsed": true
   },
   "outputs": [],
   "source": [
    "def text_process(mess):\n",
    "\n",
    "    # Check characters to see if they are in punctuation\n",
    "    nopunc = [char for char in mess if char not in string.punctuation]\n",
    "\n",
    "    # Join the characters again to form the string.\n",
    "    nopunc = ''.join(nopunc)\n",
    "    \n",
    "    # Now just remove any stopwords\n",
    "    return [word for word in nopunc.split() if word.lower() not in stopwords.words('english')]"
   ]
  },
  {
   "cell_type": "code",
   "execution_count": 8,
   "metadata": {
    "collapsed": false
   },
   "outputs": [
    {
     "data": {
      "text/plain": [
       "0    [Apple, Inc, American, multinational, technolo...\n",
       "1    [Microsoft, Corporation, commonly, referred, M...\n",
       "2    [Bank, America, American, multinational, banki...\n",
       "3    [Yahoo, Inc, American, multinational, technolo...\n",
       "4    [Google, Inc, American, multinational, technol...\n",
       "Name: Desc, dtype: object"
      ]
     },
     "execution_count": 8,
     "metadata": {},
     "output_type": "execute_result"
    }
   ],
   "source": [
    "import string\n",
    "from nltk.corpus import stopwords\n",
    "# Check to make sure its working\n",
    "messages['Desc'].head(5).apply(text_process)"
   ]
  },
  {
   "cell_type": "code",
   "execution_count": 9,
   "metadata": {
    "collapsed": true
   },
   "outputs": [],
   "source": [
    "from sklearn.feature_extraction.text import CountVectorizer"
   ]
  },
  {
   "cell_type": "code",
   "execution_count": 10,
   "metadata": {
    "collapsed": false
   },
   "outputs": [
    {
     "name": "stdout",
     "output_type": "stream",
     "text": [
      "139\n"
     ]
    }
   ],
   "source": [
    "bow_transformer = CountVectorizer(analyzer=text_process).fit(messages['Desc'])\n",
    "\n",
    "# Print total number of vocab words\n",
    "print(len(bow_transformer.vocabulary_))"
   ]
  },
  {
   "cell_type": "code",
   "execution_count": 11,
   "metadata": {
    "collapsed": false
   },
   "outputs": [
    {
     "name": "stdout",
     "output_type": "stream",
     "text": [
      " Apple Inc. is an American multinational technology company headquartered in Cupertino, California, that designs, develops, and sells consumer electronics, computer software, and online services.\n"
     ]
    }
   ],
   "source": [
    "message1 = messages['Desc'][0]\n",
    "print(message1)"
   ]
  },
  {
   "cell_type": "code",
   "execution_count": 12,
   "metadata": {
    "collapsed": false
   },
   "outputs": [
    {
     "name": "stdout",
     "output_type": "stream",
     "text": [
      "  (0, 7)\t1\n",
      "  (0, 8)\t1\n",
      "  (0, 10)\t1\n",
      "  (0, 15)\t1\n",
      "  (0, 22)\t1\n",
      "  (0, 55)\t1\n",
      "  (0, 57)\t1\n",
      "  (0, 61)\t1\n",
      "  (0, 65)\t1\n",
      "  (0, 66)\t1\n",
      "  (0, 67)\t1\n",
      "  (0, 78)\t1\n",
      "  (0, 96)\t1\n",
      "  (0, 102)\t1\n",
      "  (0, 121)\t1\n",
      "  (0, 123)\t1\n",
      "  (0, 124)\t1\n",
      "  (0, 131)\t1\n",
      "(1, 139)\n"
     ]
    }
   ],
   "source": [
    "bow1 = bow_transformer.transform([message1])\n",
    "print(bow1)\n",
    "print(bow1.shape)"
   ]
  },
  {
   "cell_type": "markdown",
   "metadata": {},
   "source": [
    "This means there are 18 unique words in message 1 after removing stop words with each of frequncy 1. The meesage 1 here means the description of company 1"
   ]
  },
  {
   "cell_type": "code",
   "execution_count": 13,
   "metadata": {
    "collapsed": true
   },
   "outputs": [],
   "source": [
    "# Compute TF-IDF vectors and cosine similarity"
   ]
  },
  {
   "cell_type": "code",
   "execution_count": 14,
   "metadata": {
    "collapsed": false
   },
   "outputs": [],
   "source": [
    "from sklearn.feature_extraction.text import TfidfTransformer\n",
    "from sklearn.feature_extraction.text import TfidfVectorizer\n",
    "\n",
    "documents = [each for each in messages['Desc']]\n",
    "tfidf = TfidfVectorizer().fit_transform(documents)\n",
    "# no need to normalize, since Vectorizer will return normalized tf-idf\n",
    "pairwise_similarity = tfidf * tfidf.T"
   ]
  },
  {
   "cell_type": "code",
   "execution_count": 15,
   "metadata": {
    "collapsed": false
   },
   "outputs": [
    {
     "name": "stdout",
     "output_type": "stream",
     "text": [
      "[[ 1.          0.29451211  0.17996033  0.22461334  0.24547758]\n",
      " [ 0.29451211  1.          0.31366557  0.13948072  0.23547846]\n",
      " [ 0.17996033  0.31366557  1.          0.1183877   0.19850333]\n",
      " [ 0.22461334  0.13948072  0.1183877   1.          0.19836781]\n",
      " [ 0.24547758  0.23547846  0.19850333  0.19836781  1.        ]]\n"
     ]
    }
   ],
   "source": [
    "print pairwise_similarity.A"
   ]
  },
  {
   "cell_type": "markdown",
   "metadata": {},
   "source": [
    "## Use similariy method to calcualte the similarity matrix"
   ]
  },
  {
   "cell_type": "code",
   "execution_count": 16,
   "metadata": {
    "collapsed": true
   },
   "outputs": [],
   "source": [
    "\n",
    "#### To automate stuff in a method:\n",
    "def similarity(N_stock):\n",
    "    messages = pd.read_table('company_descriptions.txt',sep =':'\n",
    "                           ,names=[\"Company\", \"Desc\"])\n",
    "    messages = messages.head(N_stock)\n",
    "    messages['length'] = messages['Desc'].apply(len)\n",
    "    messages['Desc'].head(5).apply(text_process)\n",
    "    documents = [each for each in messages['Desc']]\n",
    "    tfidf = TfidfVectorizer().fit_transform(documents)\n",
    "    # no need to normalize, since Vectorizer will return normalized tf-idf\n",
    "    pairwise_similarity = tfidf * tfidf.T\n",
    "    return pairwise_similarity.A"
   ]
  },
  {
   "cell_type": "code",
   "execution_count": 17,
   "metadata": {
    "collapsed": false
   },
   "outputs": [
    {
     "data": {
      "text/plain": [
       "array([[ 1.        ,  0.29451211,  0.17996033,  0.22461334,  0.24547758],\n",
       "       [ 0.29451211,  1.        ,  0.31366557,  0.13948072,  0.23547846],\n",
       "       [ 0.17996033,  0.31366557,  1.        ,  0.1183877 ,  0.19850333],\n",
       "       [ 0.22461334,  0.13948072,  0.1183877 ,  1.        ,  0.19836781],\n",
       "       [ 0.24547758,  0.23547846,  0.19850333,  0.19836781,  1.        ]])"
      ]
     },
     "execution_count": 17,
     "metadata": {},
     "output_type": "execute_result"
    }
   ],
   "source": [
    "similarity(5)"
   ]
  }
 ],
 "metadata": {
  "anaconda-cloud": {},
  "kernelspec": {
   "display_name": "Python [conda root]",
   "language": "python",
   "name": "conda-root-py"
  },
  "language_info": {
   "codemirror_mode": {
    "name": "ipython",
    "version": 2
   },
   "file_extension": ".py",
   "mimetype": "text/x-python",
   "name": "python",
   "nbconvert_exporter": "python",
   "pygments_lexer": "ipython2",
   "version": "2.7.12"
  }
 },
 "nbformat": 4,
 "nbformat_minor": 2
}
